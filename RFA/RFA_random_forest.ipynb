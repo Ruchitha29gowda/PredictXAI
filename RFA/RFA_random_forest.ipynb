{
 "cells": [
  {
   "cell_type": "code",
   "execution_count": 5,
   "metadata": {},
   "outputs": [],
   "source": [
    "import pandas as pd\n",
    "import numpy as np\n",
    "\n",
    "from sklearn.ensemble import RandomForestClassifier\n",
    "from sklearn.model_selection import train_test_split\n",
    "from sklearn.preprocessing import StandardScaler\n",
    "from sklearn.metrics import classification_report, roc_auc_score, roc_curve, accuracy_score\n",
    "import matplotlib.pyplot as plt"
   ]
  },
  {
   "cell_type": "code",
   "execution_count": 6,
   "metadata": {},
   "outputs": [],
   "source": [
    "df = pd.read_csv('stroke_data.csv')\n",
    "# print(df.head())"
   ]
  },
  {
   "cell_type": "code",
   "execution_count": 7,
   "metadata": {},
   "outputs": [
    {
     "data": {
      "text/plain": [
       "sex                  3\n",
       "age                  0\n",
       "hypertension         0\n",
       "heart_disease        0\n",
       "ever_married         0\n",
       "work_type            0\n",
       "Residence_type       0\n",
       "avg_glucose_level    0\n",
       "bmi                  0\n",
       "smoking_status       0\n",
       "stroke               0\n",
       "dtype: int64"
      ]
     },
     "execution_count": 7,
     "metadata": {},
     "output_type": "execute_result"
    }
   ],
   "source": [
    "df.isnull().sum()"
   ]
  },
  {
   "cell_type": "code",
   "execution_count": 8,
   "metadata": {},
   "outputs": [
    {
     "name": "stdout",
     "output_type": "stream",
     "text": [
      "[ 1.  0. nan]\n"
     ]
    }
   ],
   "source": [
    "print(df['sex'].unique())"
   ]
  },
  {
   "cell_type": "code",
   "execution_count": 9,
   "metadata": {},
   "outputs": [],
   "source": [
    "df = df.dropna(subset=['sex'])"
   ]
  },
  {
   "cell_type": "code",
   "execution_count": 10,
   "metadata": {},
   "outputs": [
    {
     "data": {
      "text/plain": [
       "sex                  0\n",
       "age                  0\n",
       "hypertension         0\n",
       "heart_disease        0\n",
       "ever_married         0\n",
       "work_type            0\n",
       "Residence_type       0\n",
       "avg_glucose_level    0\n",
       "bmi                  0\n",
       "smoking_status       0\n",
       "stroke               0\n",
       "dtype: int64"
      ]
     },
     "execution_count": 10,
     "metadata": {},
     "output_type": "execute_result"
    }
   ],
   "source": [
    "df.isnull().sum()"
   ]
  },
  {
   "cell_type": "code",
   "execution_count": 11,
   "metadata": {},
   "outputs": [
    {
     "data": {
      "text/plain": [
       "stroke\n",
       "1    20460\n",
       "0    20447\n",
       "Name: count, dtype: int64"
      ]
     },
     "execution_count": 11,
     "metadata": {},
     "output_type": "execute_result"
    }
   ],
   "source": [
    "df.value_counts('stroke')"
   ]
  },
  {
   "cell_type": "code",
   "execution_count": 12,
   "metadata": {},
   "outputs": [
    {
     "name": "stdout",
     "output_type": "stream",
     "text": [
      "BEFORE REMOVING NEGATIVE AGE : \n",
      " 40907\n",
      "\n",
      "\n",
      "NEGATIVE AGE VALUEsS : \n",
      "58\n",
      "\n",
      "\n",
      "AFTER REMOVING NEGATIVE AGE :\n",
      " 40849\n"
     ]
    }
   ],
   "source": [
    "print(\"BEFORE REMOVING NEGATIVE AGE : \\n\", df['age'].count())\n",
    "negativeAge = df[df['age']<0]\n",
    "\n",
    "print(\"\\n\\nNEGATIVE AGE VALUEsS : \")\n",
    "print(negativeAge['age'].count())\n",
    "\n",
    "df = df[df['age']>=0]\n",
    "print(\"\\n\\nAFTER REMOVING NEGATIVE AGE :\\n\",df['age'].count())"
   ]
  },
  {
   "cell_type": "code",
   "execution_count": 13,
   "metadata": {},
   "outputs": [],
   "source": [
    "x = df.drop(\"stroke\", axis = 1)\n",
    "y = df[\"stroke\"]"
   ]
  },
  {
   "cell_type": "code",
   "execution_count": 14,
   "metadata": {},
   "outputs": [],
   "source": [
    "X_train, X_test, Y_train, Y_test = train_test_split(x, y, test_size=0.3, random_state=42)"
   ]
  },
  {
   "cell_type": "code",
   "execution_count": 15,
   "metadata": {},
   "outputs": [],
   "source": [
    "#Standardize the data, it'll help PCA to work better\n",
    "scaler = StandardScaler()\n",
    "X_train = scaler.fit_transform(X_train)\n",
    "X_test = scaler.fit_transform(X_test)"
   ]
  },
  {
   "cell_type": "code",
   "execution_count": 16,
   "metadata": {},
   "outputs": [],
   "source": [
    "selected_features = []\n",
    "remainig_features = list(df.drop('stroke', axis =1).columns)"
   ]
  },
  {
   "cell_type": "code",
   "execution_count": 17,
   "metadata": {},
   "outputs": [],
   "source": [
    "rf_model = RandomForestClassifier(n_estimators=100, random_state=42)"
   ]
  },
  {
   "cell_type": "code",
   "execution_count": 18,
   "metadata": {},
   "outputs": [
    {
     "name": "stdout",
     "output_type": "stream",
     "text": [
      "ADDED FEATURE : hypertension, SCORE :  0.6061\n",
      "ADDED FEATURE : heart_disease, SCORE :  0.6577\n",
      "ADDED FEATURE : age, SCORE :  0.6716\n",
      "ADDED FEATURE : ever_married, SCORE :  0.6739\n"
     ]
    }
   ],
   "source": [
    "best_score =0\n",
    "while remainig_features :\n",
    "    best_feature = None\n",
    "    for feature in remainig_features :\n",
    "        temp_features = selected_features + [feature]\n",
    "        X_train_temp = X_train[:, [df.columns.get_loc(f) for f in temp_features]]\n",
    "        X_test_temp = X_test[:, [df.columns.get_loc(f) for f in temp_features]]\n",
    "        \n",
    "        # Train the Random Forest model\n",
    "\n",
    "        rf_model.fit(X_train_temp, Y_train)\n",
    "        Y_pred = rf_model.predict(X_test_temp)\n",
    "        score = accuracy_score(Y_test, Y_pred)\n",
    "        \n",
    "        if score > best_score:\n",
    "            best_score = score\n",
    "            best_feature = feature\n",
    "            \n",
    "    if best_feature:\n",
    "        selected_features.append(best_feature)\n",
    "        remainig_features.remove(best_feature)\n",
    "        print(f'ADDED FEATURE : {best_feature}, SCORE : {best_score: .4f}')\n",
    "    else:\n",
    "        break\n",
    "\n",
    "\n"
   ]
  },
  {
   "cell_type": "code",
   "execution_count": 19,
   "metadata": {},
   "outputs": [
    {
     "name": "stdout",
     "output_type": "stream",
     "text": [
      "Selected features: ['hypertension', 'heart_disease', 'age', 'ever_married']\n"
     ]
    }
   ],
   "source": [
    "print(f'Selected features: {selected_features}')"
   ]
  },
  {
   "cell_type": "code",
   "execution_count": 24,
   "metadata": {},
   "outputs": [
    {
     "name": "stdout",
     "output_type": "stream",
     "text": [
      "Classification Report for Random Forest:\n",
      "              precision    recall  f1-score   support\n",
      "\n",
      "           0       0.64      0.81      0.71      6121\n",
      "           1       0.74      0.54      0.62      6134\n",
      "\n",
      "    accuracy                           0.67     12255\n",
      "   macro avg       0.69      0.67      0.67     12255\n",
      "weighted avg       0.69      0.67      0.67     12255\n",
      "\n"
     ]
    }
   ],
   "source": [
    "# Train the Random Forest model with the selected features\n",
    "rf_model.fit(X_train[:, [df.columns.get_loc(f) for f in selected_features]], Y_train)\n",
    "\n",
    "# Predict on test data\n",
    "y_rf_pred = rf_model.predict(X_test[:, [df.columns.get_loc(f) for f in selected_features]])\n",
    "\n",
    "# Print the classification report (precision, recall, F1-score)\n",
    "print(\"Classification Report for Random Forest:\")\n",
    "print(classification_report(Y_test, y_rf_pred))\n"
   ]
  },
  {
   "cell_type": "code",
   "execution_count": 25,
   "metadata": {},
   "outputs": [
    {
     "name": "stdout",
     "output_type": "stream",
     "text": [
      "AUC-ROC Score for Random Forest: 0.7275\n"
     ]
    }
   ],
   "source": [
    "\n",
    "# Calculate AUC-ROC score\n",
    "y_rf_prob = rf_model.predict_proba(X_test[:, [df.columns.get_loc(f) for f in selected_features]])[:, 1]\n",
    "auc_rf = roc_auc_score(Y_test, y_rf_prob)\n",
    "print(f\"AUC-ROC Score for Random Forest: {auc_rf:.4f}\")\n"
   ]
  },
  {
   "cell_type": "code",
   "execution_count": 26,
   "metadata": {},
   "outputs": [
    {
     "data": {
      "image/png": "[encoded data removed]",
      "text/plain": [
       "<Figure size 800x600 with 1 Axes>"
      ]
     },
     "metadata": {},
     "output_type": "display_data"
    }
   ],
   "source": [
    "\n",
    "# Plot the ROC Curve for Random Forest\n",
    "fpr_rf, tpr_rf, thresholds_rf = roc_curve(Y_test, y_rf_prob)\n",
    "plt.figure(figsize=(8, 6))\n",
    "plt.plot(fpr_rf, tpr_rf, color='blue', label=f'Random Forest AUC = {auc_rf:.4f}')\n",
    "plt.plot([0, 1], [0, 1], color='red', linestyle='--')  # Diagonal line\n",
    "plt.xlabel('False Positive Rate')\n",
    "plt.ylabel('True Positive Rate')\n",
    "plt.title('Receiver Operating Characteristic (ROC) Curve - Random Forest')\n",
    "plt.legend()\n",
    "plt.show()\n"
   ]
  },
  {
   "cell_type": "code",
   "execution_count": 27,
   "metadata": {},
   "outputs": [
    {
     "name": "stdout",
     "output_type": "stream",
     "text": [
      "Final accuracy with selected features: 0.6739\n"
     ]
    }
   ],
   "source": [
    "\n",
    "# Final accuracy of the model\n",
    "final_accuracy = accuracy_score(Y_test, y_rf_pred)\n",
    "print(f'Final accuracy with selected features: {final_accuracy:.4f}')"
   ]
  },
  {
   "cell_type": "code",
   "execution_count": null,
   "metadata": {},
   "outputs": [],
   "source": []
  }
 ],
 "metadata": {
  "kernelspec": {
   "display_name": "Python 3",
   "language": "python",
   "name": "python3"
  },
  "language_info": {
   "codemirror_mode": {
    "name": "ipython",
    "version": 3
   },
   "file_extension": ".py",
   "mimetype": "text/x-python",
   "name": "python",
   "nbconvert_exporter": "python",
   "pygments_lexer": "ipython3",
   "version": "3.12.1"
  }
 },
 "nbformat": 4,
 "nbformat_minor": 2
}
