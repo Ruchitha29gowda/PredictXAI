{
 "cells": [
  {
   "cell_type": "code",
   "execution_count": 1,
   "metadata": {},
   "outputs": [],
   "source": [
    "import pandas as pd\n",
    "import numpy as np\n",
    "from sklearn.decomposition import PCA\n",
    "from sklearn.preprocessing import StandardScaler\n",
    "from sklearn.model_selection import train_test_split\n",
    "\n",
    "from sklearn.linear_model import LogisticRegression\n",
    "from sklearn.metrics import accuracy_score\n",
    "from sklearn.feature_selection import f_classif"
   ]
  },
  {
   "cell_type": "code",
   "execution_count": 2,
   "metadata": {},
   "outputs": [],
   "source": [
    "df = pd.read_csv('dataset.csv')\n",
    "# print(df.head())"
   ]
  },
  {
   "cell_type": "code",
   "execution_count": 3,
   "metadata": {},
   "outputs": [
    {
     "name": "stdout",
     "output_type": "stream",
     "text": [
      "<class 'pandas.core.frame.DataFrame'>\n",
      "RangeIndex: 303 entries, 0 to 302\n",
      "Data columns (total 14 columns):\n",
      " #   Column    Non-Null Count  Dtype  \n",
      "---  ------    --------------  -----  \n",
      " 0   age       303 non-null    int64  \n",
      " 1   sex       303 non-null    int64  \n",
      " 2   cp        303 non-null    int64  \n",
      " 3   trestbps  303 non-null    int64  \n",
      " 4   chol      303 non-null    int64  \n",
      " 5   fbs       303 non-null    int64  \n",
      " 6   restecg   303 non-null    int64  \n",
      " 7   thalach   303 non-null    int64  \n",
      " 8   exang     303 non-null    int64  \n",
      " 9   oldpeak   303 non-null    float64\n",
      " 10  slope     303 non-null    int64  \n",
      " 11  ca        303 non-null    int64  \n",
      " 12  thal      303 non-null    int64  \n",
      " 13  target    303 non-null    int64  \n",
      "dtypes: float64(1), int64(13)\n",
      "memory usage: 33.3 KB\n"
     ]
    }
   ],
   "source": [
    "df.info()"
   ]
  },
  {
   "cell_type": "code",
   "execution_count": 4,
   "metadata": {},
   "outputs": [],
   "source": [
    "x = df.drop(\"target\", axis = 1)\n",
    "y = df[\"target\"]"
   ]
  },
  {
   "cell_type": "code",
   "execution_count": 5,
   "metadata": {},
   "outputs": [],
   "source": [
    "X_train, X_test, Y_train, Y_test = train_test_split(x, y, test_size=0.3, random_state=42)"
   ]
  },
  {
   "cell_type": "code",
   "execution_count": 6,
   "metadata": {},
   "outputs": [],
   "source": [
    "#Standardize the data, it'll help PCA to work better\n",
    "scaler = StandardScaler()\n",
    "X_train = scaler.fit_transform(X_train)\n",
    "X_test = scaler.fit_transform(X_test)"
   ]
  },
  {
   "cell_type": "code",
   "execution_count": 7,
   "metadata": {},
   "outputs": [],
   "source": [
    "selected_features = []\n",
    "remainig_features = list(df.drop('target', axis =1).columns)"
   ]
  },
  {
   "cell_type": "code",
   "execution_count": 8,
   "metadata": {},
   "outputs": [],
   "source": [
    "model = LogisticRegression(max_iter=1000)"
   ]
  },
  {
   "cell_type": "code",
   "execution_count": 9,
   "metadata": {},
   "outputs": [
    {
     "name": "stdout",
     "output_type": "stream",
     "text": [
      "ADDED FEATURE : cp, SCORE :  0.7692\n",
      "ADDED FEATURE : thalach, SCORE :  0.8132\n",
      "ADDED FEATURE : thal, SCORE :  0.8352\n",
      "ADDED FEATURE : restecg, SCORE :  0.8571\n"
     ]
    }
   ],
   "source": [
    "best_score =0\n",
    "while remainig_features :\n",
    "    best_feature = None\n",
    "    for feature in remainig_features :\n",
    "        temp_features = selected_features + [feature]\n",
    "        X_train_temp = X_train[:, [df.columns.get_loc(f) for f in temp_features]]\n",
    "        X_test_temp = X_test[:, [df.columns.get_loc(f) for f in temp_features]]\n",
    "        \n",
    "        model.fit(X_train_temp, Y_train)\n",
    "        Y_pred = model.predict(X_test_temp)\n",
    "        score = accuracy_score(Y_test, Y_pred)\n",
    "        \n",
    "        if score > best_score:\n",
    "            best_score = score\n",
    "            best_feature = feature\n",
    "            \n",
    "    if best_feature:\n",
    "        selected_features.append(best_feature)\n",
    "        remainig_features.remove(best_feature)\n",
    "        print(f'ADDED FEATURE : {best_feature}, SCORE : {best_score: .4f}')\n",
    "    else:\n",
    "        break\n",
    "\n",
    "\n"
   ]
  },
  {
   "cell_type": "code",
   "execution_count": 10,
   "metadata": {},
   "outputs": [
    {
     "name": "stdout",
     "output_type": "stream",
     "text": [
      "Actual number of features: (303, 14)\n",
      "Selected features: ['cp', 'thalach', 'thal', 'restecg']\n",
      "Length: 4\n"
     ]
    }
   ],
   "source": [
    "print(f\"Actual number of features: {df.shape}\" )\n",
    "print(f'Selected features: {selected_features}')\n",
    "print(f'Length: {len(selected_features)}')"
   ]
  },
  {
   "cell_type": "code",
   "execution_count": 11,
   "metadata": {},
   "outputs": [
    {
     "name": "stdout",
     "output_type": "stream",
     "text": [
      "FINAL ACCURACY WITH SELECTED FEATURES :  0.8571\n"
     ]
    }
   ],
   "source": [
    "final_model = LogisticRegression(max_iter=1000)\n",
    "final_model.fit(X_train [:, [df.columns.get_loc(f) for f in selected_features]], Y_train)\n",
    "Y_final_pred = final_model.predict(X_test[:, [df.columns.get_loc(f) for f in selected_features]])\n",
    "final_score = accuracy_score(Y_test, Y_final_pred)\n",
    "\n",
    "print(f'FINAL ACCURACY WITH SELECTED FEATURES : {final_score: .4f}')"
   ]
  },
  {
   "cell_type": "code",
   "execution_count": null,
   "metadata": {},
   "outputs": [],
   "source": []
  }
 ],
 "metadata": {
  "kernelspec": {
   "display_name": "Python 3",
   "language": "python",
   "name": "python3"
  },
  "language_info": {
   "codemirror_mode": {
    "name": "ipython",
    "version": 3
   },
   "file_extension": ".py",
   "mimetype": "text/x-python",
   "name": "python",
   "nbconvert_exporter": "python",
   "pygments_lexer": "ipython3",
   "version": "3.12.1"
  }
 },
 "nbformat": 4,
 "nbformat_minor": 2
}
