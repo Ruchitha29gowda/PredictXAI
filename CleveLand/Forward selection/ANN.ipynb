{
 "cells": [
  {
   "cell_type": "code",
   "execution_count": 1,
   "metadata": {},
   "outputs": [],
   "source": [
    "import pandas as pd\n",
    "from sklearn.model_selection import train_test_split\n",
    "from sklearn.preprocessing import StandardScaler\n",
    "from sklearn.metrics import accuracy_score, confusion_matrix\n",
    "import tensorflow as tf\n",
    "from tensorflow.keras.models import Sequential\n",
    "from tensorflow.keras.layers import Dense\n",
    "import seaborn as sns\n",
    "import matplotlib.pyplot as plt"
   ]
  },
  {
   "cell_type": "code",
   "execution_count": 2,
   "metadata": {},
   "outputs": [],
   "source": [
    "# Load the dataset (ensure your dataset is preprocessed and cleaned)\n",
    "data = pd.read_csv('dataset.csv')"
   ]
  },
  {
   "cell_type": "code",
   "execution_count": 3,
   "metadata": {},
   "outputs": [],
   "source": [
    "# Separate features (X) and target (y)\n",
    "X = data.drop(columns=['target'])  # Drop the target column 'stroke'\n",
    "y = data['target']  # Target variable"
   ]
  },
  {
   "cell_type": "code",
   "execution_count": 4,
   "metadata": {},
   "outputs": [],
   "source": [
    "# Split the dataset into training and test sets (80% training, 20% testing)\n",
    "X_train, X_test, y_train, y_test = train_test_split(X, y, test_size=0.2, random_state=42)"
   ]
  },
  {
   "cell_type": "code",
   "execution_count": 5,
   "metadata": {},
   "outputs": [],
   "source": [
    "# Standardize the features (neural networks perform better with standardized data)\n",
    "scaler = StandardScaler()\n",
    "X_train_scaled = scaler.fit_transform(X_train)\n",
    "X_test_scaled = scaler.transform(X_test)"
   ]
  },
  {
   "cell_type": "code",
   "execution_count": 6,
   "metadata": {},
   "outputs": [],
   "source": [
    "# Convert scaled data back into a DataFrame for easier feature selection\n",
    "X_train_scaled = pd.DataFrame(X_train_scaled, columns=X.columns)\n",
    "X_test_scaled = pd.DataFrame(X_test_scaled, columns=X.columns)"
   ]
  },
  {
   "cell_type": "code",
   "execution_count": 8,
   "metadata": {},
   "outputs": [],
   "source": [
    "# Function to create ANN model\n",
    "def create_ann(input_shape):\n",
    "    model = Sequential()\n",
    "    model.add(Dense(16, activation='relu', input_shape=(input_shape,)))  # Input layer and first hidden layer\n",
    "    model.add(Dense(8, activation='relu'))  # Second hidden layer\n",
    "    model.add(Dense(1, activation='sigmoid'))  # Output layer (binary classification)\n",
    "    \n",
    "    # Compile the model\n",
    "    model.compile(optimizer='adam', loss='binary_crossentropy', metrics=['accuracy'])\n",
    "    return model"
   ]
  },
  {
   "cell_type": "code",
   "execution_count": 9,
   "metadata": {},
   "outputs": [],
   "source": [
    "# Initialize empty lists for selected features and remaining features\n",
    "selected_features = []\n",
    "remaining_features = list(X_train_scaled.columns)"
   ]
  },
  {
   "cell_type": "code",
   "execution_count": 10,
   "metadata": {},
   "outputs": [],
   "source": [
    "# Best score tracker\n",
    "best_score = 0"
   ]
  },
  {
   "cell_type": "code",
   "execution_count": 14,
   "metadata": {},
   "outputs": [
    {
     "ename": "TypeError",
     "evalue": "create_ann() got an unexpected keyword argument 'input_dim'",
     "output_type": "error",
     "traceback": [
      "\u001b[1;31m---------------------------------------------------------------------------\u001b[0m",
      "\u001b[1;31mTypeError\u001b[0m                                 Traceback (most recent call last)",
      "Cell \u001b[1;32mIn[14], line 13\u001b[0m\n\u001b[0;32m     10\u001b[0m X_test_temp \u001b[38;5;241m=\u001b[39m X_test_scaled[temp_features]\n\u001b[0;32m     12\u001b[0m \u001b[38;5;66;03m# Create and train ANN model\u001b[39;00m\n\u001b[1;32m---> 13\u001b[0m model \u001b[38;5;241m=\u001b[39m \u001b[43mcreate_ann\u001b[49m\u001b[43m(\u001b[49m\u001b[43minput_dim\u001b[49m\u001b[38;5;241;43m=\u001b[39;49m\u001b[43mX_train_temp\u001b[49m\u001b[38;5;241;43m.\u001b[39;49m\u001b[43mshape\u001b[49m\u001b[43m[\u001b[49m\u001b[38;5;241;43m1\u001b[39;49m\u001b[43m]\u001b[49m\u001b[43m)\u001b[49m\n\u001b[0;32m     14\u001b[0m model\u001b[38;5;241m.\u001b[39mfit(X_train_temp, y_train, epochs\u001b[38;5;241m=\u001b[39m\u001b[38;5;241m10\u001b[39m, batch_size\u001b[38;5;241m=\u001b[39m\u001b[38;5;241m32\u001b[39m, verbose\u001b[38;5;241m=\u001b[39m\u001b[38;5;241m0\u001b[39m)  \u001b[38;5;66;03m# Train for 10 epochs\u001b[39;00m\n\u001b[0;32m     16\u001b[0m \u001b[38;5;66;03m# Predict on test set\u001b[39;00m\n",
      "\u001b[1;31mTypeError\u001b[0m: create_ann() got an unexpected keyword argument 'input_dim'"
     ]
    }
   ],
   "source": [
    "# Forward feature selection loop\n",
    "while remaining_features:\n",
    "    best_feature = None\n",
    "    for feature in remaining_features:\n",
    "        # Create temporary list of selected features + current feature\n",
    "        temp_features = selected_features + [feature]\n",
    "        \n",
    "        # Prepare training and test sets with the selected features\n",
    "        X_train_temp = X_train_scaled[temp_features]\n",
    "        X_test_temp = X_test_scaled[temp_features]\n",
    "        \n",
    "        # Create and train ANN model\n",
    "        model = create_ann(input_dim=X_train_temp.shape[1])\n",
    "        model.fit(X_train_temp, y_train, epochs=10, batch_size=32, verbose=0)  # Train for 10 epochs\n",
    "        \n",
    "        # Predict on test set\n",
    "        y_pred = (model.predict(X_test_temp) > 0.5).astype(\"int32\")  # Convert probabilities to 0/1\n",
    "        \n",
    "        # Calculate accuracy score\n",
    "        score = accuracy_score(y_test, y_pred)\n",
    "        \n",
    "        # If this feature improves the score, update best_feature and best_score\n",
    "        if score > best_score:\n",
    "            best_score = score\n",
    "            best_feature = feature\n",
    "    \n",
    "    # If a feature improved the score, add it to selected features and remove from remaining features\n",
    "    if best_feature:\n",
    "        selected_features.append(best_feature)\n",
    "        remaining_features.remove(best_feature)\n",
    "        print(f'ADDED FEATURE: {best_feature}, SCORE: {best_score:.4f}')\n",
    "    else:\n",
    "        # Stop if no feature improves the score\n",
    "        break"
   ]
  },
  {
   "cell_type": "code",
   "execution_count": null,
   "metadata": {},
   "outputs": [],
   "source": []
  }
 ],
 "metadata": {
  "kernelspec": {
   "display_name": "Python 3",
   "language": "python",
   "name": "python3"
  },
  "language_info": {
   "codemirror_mode": {
    "name": "ipython",
    "version": 3
   },
   "file_extension": ".py",
   "mimetype": "text/x-python",
   "name": "python",
   "nbconvert_exporter": "python",
   "pygments_lexer": "ipython3",
   "version": "3.12.1"
  }
 },
 "nbformat": 4,
 "nbformat_minor": 2
}
