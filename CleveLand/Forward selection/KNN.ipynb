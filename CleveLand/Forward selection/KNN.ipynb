{
 "cells": [
  {
   "cell_type": "code",
   "execution_count": 2,
   "metadata": {},
   "outputs": [],
   "source": [
    "import pandas as pd\n",
    "from sklearn.model_selection import train_test_split\n",
    "from sklearn.preprocessing import StandardScaler\n",
    "from sklearn.neighbors import KNeighborsClassifier\n",
    "from sklearn.metrics import accuracy_score, confusion_matrix\n",
    "import seaborn as sns\n",
    "import matplotlib.pyplot as plt"
   ]
  },
  {
   "cell_type": "code",
   "execution_count": 3,
   "metadata": {},
   "outputs": [],
   "source": [
    "data = pd.read_csv('dataset.csv')"
   ]
  },
  {
   "cell_type": "code",
   "execution_count": 5,
   "metadata": {},
   "outputs": [],
   "source": [
    "# Separate features (X) and target (y)\n",
    "X = data.drop(columns=['target'])  # Drop the target column 'stroke'\n",
    "y = data['target']  # Target variable"
   ]
  },
  {
   "cell_type": "code",
   "execution_count": 6,
   "metadata": {},
   "outputs": [],
   "source": [
    "# Split the dataset into training and test sets (80% training, 20% testing)\n",
    "X_train, X_test, y_train, y_test = train_test_split(X, y, test_size=0.2, random_state=42)"
   ]
  },
  {
   "cell_type": "code",
   "execution_count": 7,
   "metadata": {},
   "outputs": [],
   "source": [
    "# Standardize the features (since KNN is distance-based and sensitive to scale)\n",
    "scaler = StandardScaler()\n",
    "X_train_scaled = scaler.fit_transform(X_train)\n",
    "X_test_scaled = scaler.transform(X_test)"
   ]
  },
  {
   "cell_type": "code",
   "execution_count": 8,
   "metadata": {},
   "outputs": [],
   "source": [
    "# Convert scaled data back into a DataFrame for easier feature selection\n",
    "X_train_scaled = pd.DataFrame(X_train_scaled, columns=X.columns)\n",
    "X_test_scaled = pd.DataFrame(X_test_scaled, columns=X.columns)"
   ]
  },
  {
   "cell_type": "code",
   "execution_count": 9,
   "metadata": {},
   "outputs": [],
   "source": [
    "# Initialize KNN model (with k=5 as a starting point)\n",
    "k = 5\n",
    "model = KNeighborsClassifier(n_neighbors=k)"
   ]
  },
  {
   "cell_type": "code",
   "execution_count": 10,
   "metadata": {},
   "outputs": [],
   "source": [
    "# Initialize empty lists for selected features and remaining features\n",
    "selected_features = []\n",
    "remaining_features = list(X_train_scaled.columns)"
   ]
  },
  {
   "cell_type": "code",
   "execution_count": 11,
   "metadata": {},
   "outputs": [],
   "source": [
    "# Best score tracker\n",
    "best_score = 0"
   ]
  },
  {
   "cell_type": "code",
   "execution_count": 12,
   "metadata": {},
   "outputs": [
    {
     "name": "stdout",
     "output_type": "stream",
     "text": [
      "ADDED FEATURE: cp, SCORE: 0.8033\n",
      "ADDED FEATURE: thal, SCORE: 0.8197\n",
      "ADDED FEATURE: ca, SCORE: 0.8852\n",
      "ADDED FEATURE: chol, SCORE: 0.9016\n"
     ]
    }
   ],
   "source": [
    "# Forward feature selection loop\n",
    "while remaining_features:\n",
    "    best_feature = None\n",
    "    for feature in remaining_features:\n",
    "        # Create temporary list of selected features + current feature\n",
    "        temp_features = selected_features + [feature]\n",
    "        \n",
    "        # Train KNN with the selected features\n",
    "        X_train_temp = X_train_scaled[temp_features]\n",
    "        X_test_temp = X_test_scaled[temp_features]\n",
    "        \n",
    "        model.fit(X_train_temp, y_train)\n",
    "        y_pred = model.predict(X_test_temp)\n",
    "        \n",
    "        # Calculate accuracy score\n",
    "        score = accuracy_score(y_test, y_pred)\n",
    "        \n",
    "        # If this feature improves the score, update best_feature and best_score\n",
    "        if score > best_score:\n",
    "            best_score = score\n",
    "            best_feature = feature\n",
    "    \n",
    "    # If a feature improved the score, add it to selected features and remove from remaining features\n",
    "    if best_feature:\n",
    "        selected_features.append(best_feature)\n",
    "        remaining_features.remove(best_feature)\n",
    "        print(f'ADDED FEATURE: {best_feature}, SCORE: {best_score:.4f}')\n",
    "    else:\n",
    "        # Stop if no feature improves the score\n",
    "        break"
   ]
  },
  {
   "cell_type": "code",
   "execution_count": 13,
   "metadata": {},
   "outputs": [
    {
     "name": "stdout",
     "output_type": "stream",
     "text": [
      "\n",
      "Selected Features: ['cp', 'thal', 'ca', 'chol']\n",
      "Final Accuracy: 0.9016\n"
     ]
    }
   ],
   "source": [
    "# Final model with selected features\n",
    "print(f\"\\nSelected Features: {selected_features}\")\n",
    "print(f\"Final Accuracy: {best_score:.4f}\")"
   ]
  },
  {
   "cell_type": "code",
   "execution_count": 14,
   "metadata": {},
   "outputs": [],
   "source": [
    "# Final predictions on the test set using the selected features\n",
    "X_train_final = X_train_scaled[selected_features]\n",
    "X_test_final = X_test_scaled[selected_features]\n",
    "model.fit(X_train_final, y_train)\n",
    "y_pred_final = model.predict(X_test_final)"
   ]
  },
  {
   "cell_type": "code",
   "execution_count": 15,
   "metadata": {},
   "outputs": [
    {
     "name": "stdout",
     "output_type": "stream",
     "text": [
      "Confusion Matrix:\n",
      " [[25  4]\n",
      " [ 2 30]]\n"
     ]
    }
   ],
   "source": [
    "# Confusion Matrix\n",
    "cm = confusion_matrix(y_test, y_pred_final)\n",
    "print(\"Confusion Matrix:\\n\", cm)"
   ]
  },
  {
   "cell_type": "code",
   "execution_count": 16,
   "metadata": {},
   "outputs": [
    {
     "data": {
      "image/png": "[encoded data removed]",
      "text/plain": [
       "<Figure size 600x400 with 1 Axes>"
      ]
     },
     "metadata": {},
     "output_type": "display_data"
    }
   ],
   "source": [
    "# Plotting the confusion matrix\n",
    "plt.figure(figsize=(6, 4))\n",
    "sns.heatmap(cm, annot=True, fmt='d', cmap='Blues', cbar=False)\n",
    "plt.title('Confusion Matrix')\n",
    "plt.ylabel('True Label')\n",
    "plt.xlabel('Predicted Label')\n",
    "plt.show()"
   ]
  },
  {
   "cell_type": "code",
   "execution_count": null,
   "metadata": {},
   "outputs": [],
   "source": []
  }
 ],
 "metadata": {
  "kernelspec": {
   "display_name": "Python 3",
   "language": "python",
   "name": "python3"
  },
  "language_info": {
   "codemirror_mode": {
    "name": "ipython",
    "version": 3
   },
   "file_extension": ".py",
   "mimetype": "text/x-python",
   "name": "python",
   "nbconvert_exporter": "python",
   "pygments_lexer": "ipython3",
   "version": "3.12.1"
  }
 },
 "nbformat": 4,
 "nbformat_minor": 2
}
